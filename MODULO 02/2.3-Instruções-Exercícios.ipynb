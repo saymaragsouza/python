{
  "cells": [
    {
      "cell_type": "markdown",
      "metadata": {
        "id": "1pCTdOHonv5f"
      },
      "source": [
        "# Módulo 2\n",
        "\n",
        "## 2.3 Instruções e Expressões\n",
        "\n",
        "### Q1\n",
        "\n",
        "Faça um programa que armazene o valor de 20 reais de salário por hora de um trabalhador, e o número de 40 horas trabalhadas na semana. Com essas informações, calcule e imprima:\n",
        "- Salário semanal bruto\n",
        "- Valor descontado por semana INSS (10% do bruto)\n",
        "- Valor descontado por semana pelo sindicato (5% do bruto)\n",
        "- Salário semanal líquido (Bruto - Descontos)"
      ]
    },
    {
      "cell_type": "code",
      "execution_count": null,
      "metadata": {
        "id": "hVbX0I97nj6M"
      },
      "outputs": [],
      "source": [
        "# Valores iniciais\n",
        "salario_hora = 20\n",
        "horas_semana = 40\n",
        "\n",
        "# Cálculos\n",
        "salario_bruto = salario_hora * horas_semana\n",
        "desconto_inss = salario_bruto * 0.10\n",
        "desconto_sindicato = salario_bruto * 0.05\n",
        "salario_liquido = salario_bruto - desconto_inss - desconto_sindicato\n",
        "\n",
        "# Resultados\n",
        "print(\"Salário bruto: R$\", salario_bruto)\n",
        "print(\"Desconto INSS: R$\", desconto_inss)\n",
        "print(\"Desconto Sindicato: R$\", desconto_sindicato)\n",
        "print(\"Salário líquido: R$\", salario_liquido)\n"
      ]
    },
    {
      "cell_type": "markdown",
      "metadata": {
        "id": "pIxKX9J2oGZ1"
      },
      "source": [
        "### Q2\n",
        "\n",
        "Altere o programa anterior para a partir dos valores de horas trabalhadas por semana e salário por hora, calcular **em somente duas instruções**:\n",
        "- Salário semanal bruto\n",
        "- Salário semanal líquido com todos os descontos. Para a segunda instrução, realize todos os cálculos aritméticos em uma expressão composta.\n"
      ]
    },
    {
      "cell_type": "code",
      "execution_count": null,
      "metadata": {
        "id": "pAHw9Xf9oGoi"
      },
      "outputs": [],
      "source": [
        "# Valores iniciais\n",
        "salario_hora = 20\n",
        "horas_semana = 40\n",
        "\n",
        "# Salário bruto\n",
        "salario_bruto = salario_hora * horas_semana\n",
        "\n",
        "# Salário líquido com todos os descontos (10% INSS + 5% sindicato)\n",
        "salario_liquido = salario_bruto * (1 - 0.10 - 0.05)\n",
        "\n",
        "# Resultados\n",
        "print(\"Salário bruto: R$\", salario_bruto)\n",
        "print(\"Salário líquido: R$\", salario_liquido)\n"
      ]
    },
    {
      "cell_type": "markdown",
      "metadata": {
        "id": "m8tlHRuWpBOB"
      },
      "source": [
        "### Q3\n",
        "\n",
        "Você está desenvolvendo um software de conversão de moeda e precisa calcular o valor equivalente em yuan chinês a partir de uma quantia em real. A taxa de câmbio é de 0.69 BRL (real) para 1 CNY (yuan). Escreva um programa que define em uma variável uma quantia em reais (BRL) e calcula o valor equivalente em yuan (CNY). Imprima o resultado."
      ]
    },
    {
      "cell_type": "code",
      "execution_count": null,
      "metadata": {
        "id": "2bPw7uF6oeL9"
      },
      "outputs": [],
      "source": [
        "# Quantia em reais\n",
        "reais = 100  # exemplo: R$ 100\n",
        "\n",
        "# Taxa de câmbio\n",
        "taxa_cny = 0.69  # 1 CNY = 0.69 BRL\n",
        "\n",
        "# Conversão\n",
        "yuan = reais / taxa_cny\n",
        "\n",
        "print(\"R$\", reais, \"equivalem a CNY\", yuan)\n"
      ]
    },
    {
      "cell_type": "markdown",
      "metadata": {
        "id": "-Na3ltDCp74A"
      },
      "source": [
        "### Q4\n",
        "\n",
        "Você é um treinador de corrida e deseja calcular a velocidade média que um atleta precisa manter para completar a Maratona Internacional de São Silvestre, que tem uma distância total de 42.195 km. A fórmula para calcular a velocidade média ($v\\_media$) é dada por $v\\_media = \\frac{distancia}{tempo}$ . Escreva um programa em Python para calcular a velocidade média necessária para completar a maratona em 3 horas.\n",
        "\n",
        "**Calcule e imprima o resultado em metros/segundo**, ou seja, converta a distância de quilômetros para metros ($metro = \\frac{km}{1000}$) e a velocidade de horas para segundos $(segundo = \\frac{hora}{3600})$."
      ]
    },
    {
      "cell_type": "code",
      "execution_count": null,
      "metadata": {
        "id": "Bn6l8kcSrE4L"
      },
      "outputs": [],
      "source": [
        "# Distância da maratona\n",
        "distancia_km = 42.195\n",
        "\n",
        "# Tempo para completar a maratona\n",
        "tempo_horas = 3\n",
        "\n",
        "# Conversão de unidades\n",
        "distancia_metros = distancia_km * 1000\n",
        "tempo_segundos = tempo_horas * 3600\n",
        "\n",
        "# Velocidade média\n",
        "velocidade_media = distancia_metros / tempo_segundos\n",
        "\n",
        "print(\"Velocidade média necessária:\", velocidade_media, \"m/s\")\n"
      ]
    }
  ],
  "metadata": {
    "colab": {
      "provenance": []
    },
    "kernelspec": {
      "display_name": "Python 3",
      "name": "python3"
    },
    "language_info": {
      "name": "python"
    }
  },
  "nbformat": 4,
  "nbformat_minor": 0
}
